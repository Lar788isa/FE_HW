{
 "cells": [
  {
   "cell_type": "code",
   "execution_count": 5,
   "metadata": {},
   "outputs": [],
   "source": [
    "import numpy as np\n",
    "import pandas as pd\n",
    "\n",
    "from sklearn.linear_model import LinearRegression\n",
    "from sklearn.metrics import mean_absolute_error"
   ]
  },
  {
   "cell_type": "markdown",
   "metadata": {},
   "source": [
    "Cоздадим дф с такими данными: рост, вес, возраст и ИМТ"
   ]
  },
  {
   "cell_type": "code",
   "execution_count": 34,
   "metadata": {},
   "outputs": [
    {
     "data": {
      "text/html": [
       "<div>\n",
       "<style scoped>\n",
       "    .dataframe tbody tr th:only-of-type {\n",
       "        vertical-align: middle;\n",
       "    }\n",
       "\n",
       "    .dataframe tbody tr th {\n",
       "        vertical-align: top;\n",
       "    }\n",
       "\n",
       "    .dataframe thead th {\n",
       "        text-align: right;\n",
       "    }\n",
       "</style>\n",
       "<table border=\"1\" class=\"dataframe\">\n",
       "  <thead>\n",
       "    <tr style=\"text-align: right;\">\n",
       "      <th></th>\n",
       "      <th>age_pers</th>\n",
       "      <th>weight</th>\n",
       "      <th>height</th>\n",
       "      <th>IMT</th>\n",
       "    </tr>\n",
       "  </thead>\n",
       "  <tbody>\n",
       "    <tr>\n",
       "      <td>0</td>\n",
       "      <td>40</td>\n",
       "      <td>62</td>\n",
       "      <td>46</td>\n",
       "      <td>2.930057</td>\n",
       "    </tr>\n",
       "    <tr>\n",
       "      <td>1</td>\n",
       "      <td>26</td>\n",
       "      <td>18</td>\n",
       "      <td>133</td>\n",
       "      <td>0.101758</td>\n",
       "    </tr>\n",
       "    <tr>\n",
       "      <td>2</td>\n",
       "      <td>42</td>\n",
       "      <td>17</td>\n",
       "      <td>77</td>\n",
       "      <td>0.286726</td>\n",
       "    </tr>\n",
       "    <tr>\n",
       "      <td>3</td>\n",
       "      <td>66</td>\n",
       "      <td>65</td>\n",
       "      <td>54</td>\n",
       "      <td>2.229081</td>\n",
       "    </tr>\n",
       "    <tr>\n",
       "      <td>4</td>\n",
       "      <td>40</td>\n",
       "      <td>100</td>\n",
       "      <td>166</td>\n",
       "      <td>0.362897</td>\n",
       "    </tr>\n",
       "  </tbody>\n",
       "</table>\n",
       "</div>"
      ],
      "text/plain": [
       "   age_pers  weight  height       IMT\n",
       "0        40      62      46  2.930057\n",
       "1        26      18     133  0.101758\n",
       "2        42      17      77  0.286726\n",
       "3        66      65      54  2.229081\n",
       "4        40     100     166  0.362897"
      ]
     },
     "execution_count": 34,
     "metadata": {},
     "output_type": "execute_result"
    }
   ],
   "source": [
    "# Создаём сэмпл\n",
    "n_samples = 500\n",
    "\n",
    "age_pers = np.random.choice(60, n_samples) + 10\n",
    "weight = np.random.choice(100, n_samples) + 15\n",
    "height = np.random.choice(200, n_samples) + 10\n",
    "\n",
    "IMT = (weight*100)/(height*height)\n",
    "\n",
    "data = pd.DataFrame({'age_pers': age_pers, 'weight': weight, 'height': height, 'IMT': IMT})\n",
    "data.head()\n",
    "\n",
    "# Здесь конечно у нас получились смешные вещи- вес тела больше роста, но для нашей работы это не помешает! "
   ]
  },
  {
   "cell_type": "code",
   "execution_count": 22,
   "metadata": {},
   "outputs": [
    {
     "data": {
      "text/plain": [
       "500"
      ]
     },
     "execution_count": 22,
     "metadata": {},
     "output_type": "execute_result"
    }
   ],
   "source": [
    "len(data)"
   ]
  },
  {
   "cell_type": "code",
   "execution_count": 24,
   "metadata": {},
   "outputs": [
    {
     "name": "stdout",
     "output_type": "stream",
     "text": [
      "Weights: [ 0.01965196  0.06993802 -0.08613249]\n",
      "Bias: 7.726297629965045\n",
      "Error: 5.1294956802058485\n"
     ]
    }
   ],
   "source": [
    "X = data[['age_pers', 'weight', 'height']] #- входные данные (предикторами)\n",
    "y = data['IMT'] # - выход , зависимая переменная , ответы\n",
    "reg = LinearRegression().fit(X, y) \n",
    "\n",
    "# С помощью .fit() мы вычисляем оптимальные значения весов 𝑏₀ и 𝑏₁,\n",
    "# используя существующие входные и выходные данные ( xи y) в качестве аргументов.\n",
    "\n",
    "print('Weights: {}'.format(reg.coef_)) #  вес должен стремится к 100 \n",
    "print('Bias: {}'.format(reg.intercept_)) #  хотим получить 0\n",
    "\n",
    "pred_values = reg.predict(data[['age_pers', 'weight', 'height']])\n",
    "print('Error: {}'.format(mean_absolute_error(pred_values, y))) # ошибка должна быть минимальной\n",
    "\n",
    "#  Получили маленький вес "
   ]
  },
  {
   "cell_type": "code",
   "execution_count": 25,
   "metadata": {},
   "outputs": [
    {
     "name": "stdout",
     "output_type": "stream",
     "text": [
      "Weights: [ 0.06909632 -0.08635544]\n",
      "Bias: 8.572720919926835\n",
      "Error: 5.124982729818499\n"
     ]
    }
   ],
   "source": [
    "X = data[['weight', 'height']] #-  уберем заранее известный независимый предиктор\n",
    "y = data['IMT'] \n",
    "reg = LinearRegression().fit(X, y) \n",
    "\n",
    "print('Weights: {}'.format(reg.coef_)) \n",
    "print('Bias: {}'.format(reg.intercept_)) \n",
    "\n",
    "pred_values = reg.predict(data[['weight', 'height']])\n",
    "print('Error: {}'.format(mean_absolute_error(pred_values, y))) \n",
    "\n",
    " # Ошибка сохранилась, зависимости нет"
   ]
  },
  {
   "cell_type": "markdown",
   "metadata": {},
   "source": [
    " *Создадим новый признак IMT_1, который будет состоять из значений  = weight / height"
   ]
  },
  {
   "cell_type": "code",
   "execution_count": 35,
   "metadata": {},
   "outputs": [
    {
     "data": {
      "text/html": [
       "<div>\n",
       "<style scoped>\n",
       "    .dataframe tbody tr th:only-of-type {\n",
       "        vertical-align: middle;\n",
       "    }\n",
       "\n",
       "    .dataframe tbody tr th {\n",
       "        vertical-align: top;\n",
       "    }\n",
       "\n",
       "    .dataframe thead th {\n",
       "        text-align: right;\n",
       "    }\n",
       "</style>\n",
       "<table border=\"1\" class=\"dataframe\">\n",
       "  <thead>\n",
       "    <tr style=\"text-align: right;\">\n",
       "      <th></th>\n",
       "      <th>age_pers</th>\n",
       "      <th>weight</th>\n",
       "      <th>height</th>\n",
       "      <th>IMT</th>\n",
       "      <th>IMT_1</th>\n",
       "    </tr>\n",
       "  </thead>\n",
       "  <tbody>\n",
       "    <tr>\n",
       "      <td>0</td>\n",
       "      <td>40</td>\n",
       "      <td>62</td>\n",
       "      <td>46</td>\n",
       "      <td>2.930057</td>\n",
       "      <td>1.347826</td>\n",
       "    </tr>\n",
       "    <tr>\n",
       "      <td>1</td>\n",
       "      <td>26</td>\n",
       "      <td>18</td>\n",
       "      <td>133</td>\n",
       "      <td>0.101758</td>\n",
       "      <td>0.135338</td>\n",
       "    </tr>\n",
       "    <tr>\n",
       "      <td>2</td>\n",
       "      <td>42</td>\n",
       "      <td>17</td>\n",
       "      <td>77</td>\n",
       "      <td>0.286726</td>\n",
       "      <td>0.220779</td>\n",
       "    </tr>\n",
       "    <tr>\n",
       "      <td>3</td>\n",
       "      <td>66</td>\n",
       "      <td>65</td>\n",
       "      <td>54</td>\n",
       "      <td>2.229081</td>\n",
       "      <td>1.203704</td>\n",
       "    </tr>\n",
       "    <tr>\n",
       "      <td>4</td>\n",
       "      <td>40</td>\n",
       "      <td>100</td>\n",
       "      <td>166</td>\n",
       "      <td>0.362897</td>\n",
       "      <td>0.602410</td>\n",
       "    </tr>\n",
       "  </tbody>\n",
       "</table>\n",
       "</div>"
      ],
      "text/plain": [
       "   age_pers  weight  height       IMT     IMT_1\n",
       "0        40      62      46  2.930057  1.347826\n",
       "1        26      18     133  0.101758  0.135338\n",
       "2        42      17      77  0.286726  0.220779\n",
       "3        66      65      54  2.229081  1.203704\n",
       "4        40     100     166  0.362897  0.602410"
      ]
     },
     "execution_count": 35,
     "metadata": {},
     "output_type": "execute_result"
    }
   ],
   "source": [
    "# Создаем новый признак\n",
    "data['IMT_1'] = data['weight']/data['height']\n",
    "data.head()"
   ]
  },
  {
   "cell_type": "code",
   "execution_count": 36,
   "metadata": {},
   "outputs": [
    {
     "name": "stdout",
     "output_type": "stream",
     "text": [
      "Weights: [6.68143804]\n",
      "Bias: -3.51242674658921\n",
      "Error: 2.2476404321644754\n"
     ]
    }
   ],
   "source": [
    " # Проверим есть ли зависимость IMT от  IMT_1\n",
    "    \n",
    "X = data[['IMT_1']] \n",
    "y = data['IMT'] \n",
    "reg = LinearRegression().fit(X, y) \n",
    "\n",
    "print('Weights: {}'.format(reg.coef_)) \n",
    "print('Bias: {}'.format(reg.intercept_)) \n",
    "\n",
    "pred_values = reg.predict(data[['IMT_1']])\n",
    "print('Error: {}'.format(mean_absolute_error(pred_values, y))) \n",
    "\n",
    " # Ошибка сохранилась, зависимости линейной нет"
   ]
  },
  {
   "cell_type": "code",
   "execution_count": 37,
   "metadata": {},
   "outputs": [
    {
     "data": {
      "text/html": [
       "<div>\n",
       "<style scoped>\n",
       "    .dataframe tbody tr th:only-of-type {\n",
       "        vertical-align: middle;\n",
       "    }\n",
       "\n",
       "    .dataframe tbody tr th {\n",
       "        vertical-align: top;\n",
       "    }\n",
       "\n",
       "    .dataframe thead th {\n",
       "        text-align: right;\n",
       "    }\n",
       "</style>\n",
       "<table border=\"1\" class=\"dataframe\">\n",
       "  <thead>\n",
       "    <tr style=\"text-align: right;\">\n",
       "      <th></th>\n",
       "      <th>age_pers</th>\n",
       "      <th>weight</th>\n",
       "      <th>height</th>\n",
       "      <th>IMT</th>\n",
       "      <th>IMT_1</th>\n",
       "      <th>IMT_2</th>\n",
       "    </tr>\n",
       "  </thead>\n",
       "  <tbody>\n",
       "    <tr>\n",
       "      <td>0</td>\n",
       "      <td>40</td>\n",
       "      <td>62</td>\n",
       "      <td>46</td>\n",
       "      <td>2.930057</td>\n",
       "      <td>1.347826</td>\n",
       "      <td>0.029301</td>\n",
       "    </tr>\n",
       "    <tr>\n",
       "      <td>1</td>\n",
       "      <td>26</td>\n",
       "      <td>18</td>\n",
       "      <td>133</td>\n",
       "      <td>0.101758</td>\n",
       "      <td>0.135338</td>\n",
       "      <td>0.001018</td>\n",
       "    </tr>\n",
       "    <tr>\n",
       "      <td>2</td>\n",
       "      <td>42</td>\n",
       "      <td>17</td>\n",
       "      <td>77</td>\n",
       "      <td>0.286726</td>\n",
       "      <td>0.220779</td>\n",
       "      <td>0.002867</td>\n",
       "    </tr>\n",
       "    <tr>\n",
       "      <td>3</td>\n",
       "      <td>66</td>\n",
       "      <td>65</td>\n",
       "      <td>54</td>\n",
       "      <td>2.229081</td>\n",
       "      <td>1.203704</td>\n",
       "      <td>0.022291</td>\n",
       "    </tr>\n",
       "    <tr>\n",
       "      <td>4</td>\n",
       "      <td>40</td>\n",
       "      <td>100</td>\n",
       "      <td>166</td>\n",
       "      <td>0.362897</td>\n",
       "      <td>0.602410</td>\n",
       "      <td>0.003629</td>\n",
       "    </tr>\n",
       "  </tbody>\n",
       "</table>\n",
       "</div>"
      ],
      "text/plain": [
       "   age_pers  weight  height       IMT     IMT_1     IMT_2\n",
       "0        40      62      46  2.930057  1.347826  0.029301\n",
       "1        26      18     133  0.101758  0.135338  0.001018\n",
       "2        42      17      77  0.286726  0.220779  0.002867\n",
       "3        66      65      54  2.229081  1.203704  0.022291\n",
       "4        40     100     166  0.362897  0.602410  0.003629"
      ]
     },
     "execution_count": 37,
     "metadata": {},
     "output_type": "execute_result"
    }
   ],
   "source": [
    "# Создаем еще признак\n",
    "data['IMT_2'] = data['weight']/(data['height']*data['height'])\n",
    "data.head()"
   ]
  },
  {
   "cell_type": "code",
   "execution_count": 38,
   "metadata": {},
   "outputs": [
    {
     "name": "stdout",
     "output_type": "stream",
     "text": [
      "Weights: [100.]\n",
      "Bias: 8.881784197001252e-16\n",
      "Error: 1.1849271563946217e-15\n"
     ]
    }
   ],
   "source": [
    "# Проверим есть ли зависимость IMT от  IMT_2\n",
    "    \n",
    "X = data[['IMT_2']] \n",
    "y = data['IMT'] \n",
    "reg = LinearRegression().fit(X, y) \n",
    "\n",
    "print('Weights: {}'.format(reg.coef_)) \n",
    "print('Bias: {}'.format(reg.intercept_)) \n",
    "\n",
    "pred_values = reg.predict(data[['IMT_2']])\n",
    "print('Error: {}'.format(mean_absolute_error(pred_values, y))) \n",
    "\n",
    " # Ошибка =0,Weights = 100, Вывод -  есть линейная зависимость IMT от IMT_2"
   ]
  },
  {
   "cell_type": "code",
   "execution_count": null,
   "metadata": {},
   "outputs": [],
   "source": []
  }
 ],
 "metadata": {
  "kernelspec": {
   "display_name": "Python 3",
   "language": "python",
   "name": "python3"
  },
  "language_info": {
   "codemirror_mode": {
    "name": "ipython",
    "version": 3
   },
   "file_extension": ".py",
   "mimetype": "text/x-python",
   "name": "python",
   "nbconvert_exporter": "python",
   "pygments_lexer": "ipython3",
   "version": "3.7.4"
  }
 },
 "nbformat": 4,
 "nbformat_minor": 4
}
